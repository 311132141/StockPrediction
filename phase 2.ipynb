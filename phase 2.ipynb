{
 "cells": [
  {
   "cell_type": "code",
   "execution_count": 1,
   "id": "c7ec6abe-0e27-4d86-ae00-d09c92f681c1",
   "metadata": {},
   "outputs": [],
   "source": [
    "import os\n",
    "import numpy as np\n",
    "import pandas as pd\n",
    "import matplotlib.pyplot as plt\n",
    "import seaborn as sns\n",
    "import ta\n",
    "from scipy.stats import zscore\n",
    "\n",
    "# Sklearn imports for scaling, splitting, modeling, evaluation, and hyperparameter tuning\n",
    "from sklearn.model_selection import TimeSeriesSplit, GridSearchCV, RandomizedSearchCV\n",
    "from sklearn.preprocessing import StandardScaler\n",
    "from sklearn.linear_model import LogisticRegression\n",
    "from sklearn.svm import SVC\n",
    "from sklearn.neighbors import KNeighborsClassifier\n",
    "from sklearn.tree import DecisionTreeClassifier\n",
    "from sklearn.neural_network import MLPClassifier\n",
    "\n",
    "from sklearn.ensemble import (\n",
    "    RandomForestClassifier,\n",
    "    GradientBoostingClassifier,\n",
    "    AdaBoostClassifier,\n",
    "    ExtraTreesClassifier\n",
    ")\n",
    "from sklearn.metrics import accuracy_score, confusion_matrix, classification_report\n",
    "\n",
    "# Additional libraries for boosting models\n",
    "import xgboost as xgb\n",
    "import lightgbm as lgb\n",
    "from catboost import CatBoostClassifier"
   ]
  },
  {
   "cell_type": "code",
   "execution_count": 4,
   "id": "77f587c8-46b0-489c-95be-8c50eb111d55",
   "metadata": {},
   "outputs": [
    {
     "name": "stdout",
     "output_type": "stream",
     "text": [
      "YF.download() has changed argument auto_adjust default to True\n"
     ]
    },
    {
     "name": "stderr",
     "output_type": "stream",
     "text": [
      "[*********************100%***********************]  1 of 1 completed\n"
     ]
    },
    {
     "data": {
      "text/html": [
       "<div>\n",
       "<style scoped>\n",
       "    .dataframe tbody tr th:only-of-type {\n",
       "        vertical-align: middle;\n",
       "    }\n",
       "\n",
       "    .dataframe tbody tr th {\n",
       "        vertical-align: top;\n",
       "    }\n",
       "\n",
       "    .dataframe thead tr th {\n",
       "        text-align: left;\n",
       "    }\n",
       "\n",
       "    .dataframe thead tr:last-of-type th {\n",
       "        text-align: right;\n",
       "    }\n",
       "</style>\n",
       "<table border=\"1\" class=\"dataframe\">\n",
       "  <thead>\n",
       "    <tr>\n",
       "      <th>Price</th>\n",
       "      <th>Close</th>\n",
       "      <th>High</th>\n",
       "      <th>Low</th>\n",
       "      <th>Open</th>\n",
       "      <th>Volume</th>\n",
       "    </tr>\n",
       "    <tr>\n",
       "      <th>Ticker</th>\n",
       "      <th>AAPL</th>\n",
       "      <th>AAPL</th>\n",
       "      <th>AAPL</th>\n",
       "      <th>AAPL</th>\n",
       "      <th>AAPL</th>\n",
       "    </tr>\n",
       "    <tr>\n",
       "      <th>Date</th>\n",
       "      <th></th>\n",
       "      <th></th>\n",
       "      <th></th>\n",
       "      <th></th>\n",
       "      <th></th>\n",
       "    </tr>\n",
       "  </thead>\n",
       "  <tbody>\n",
       "    <tr>\n",
       "      <th>2020-03-04</th>\n",
       "      <td>73.468651</td>\n",
       "      <td>73.628820</td>\n",
       "      <td>71.136509</td>\n",
       "      <td>71.939776</td>\n",
       "      <td>219178400</td>\n",
       "    </tr>\n",
       "    <tr>\n",
       "      <th>2020-03-05</th>\n",
       "      <td>71.085526</td>\n",
       "      <td>72.694481</td>\n",
       "      <td>70.719078</td>\n",
       "      <td>71.716485</td>\n",
       "      <td>187572800</td>\n",
       "    </tr>\n",
       "    <tr>\n",
       "      <th>2020-03-06</th>\n",
       "      <td>70.141510</td>\n",
       "      <td>70.575907</td>\n",
       "      <td>68.248617</td>\n",
       "      <td>68.435477</td>\n",
       "      <td>226176800</td>\n",
       "    </tr>\n",
       "    <tr>\n",
       "      <th>2020-03-09</th>\n",
       "      <td>64.593872</td>\n",
       "      <td>67.486602</td>\n",
       "      <td>63.824576</td>\n",
       "      <td>64.006586</td>\n",
       "      <td>286744800</td>\n",
       "    </tr>\n",
       "    <tr>\n",
       "      <th>2020-03-10</th>\n",
       "      <td>69.246040</td>\n",
       "      <td>69.512989</td>\n",
       "      <td>65.370456</td>\n",
       "      <td>67.256077</td>\n",
       "      <td>285290000</td>\n",
       "    </tr>\n",
       "  </tbody>\n",
       "</table>\n",
       "</div>"
      ],
      "text/plain": [
       "Price           Close       High        Low       Open     Volume\n",
       "Ticker           AAPL       AAPL       AAPL       AAPL       AAPL\n",
       "Date                                                             \n",
       "2020-03-04  73.468651  73.628820  71.136509  71.939776  219178400\n",
       "2020-03-05  71.085526  72.694481  70.719078  71.716485  187572800\n",
       "2020-03-06  70.141510  70.575907  68.248617  68.435477  226176800\n",
       "2020-03-09  64.593872  67.486602  63.824576  64.006586  286744800\n",
       "2020-03-10  69.246040  69.512989  65.370456  67.256077  285290000"
      ]
     },
     "execution_count": 4,
     "metadata": {},
     "output_type": "execute_result"
    }
   ],
   "source": [
    "# Example: Download data using yfinance library (install it if needed: pip install yfinance)\n",
    "import yfinance as yf\n",
    "\n",
    "# Define the ticker symbol (e.g., \"AAPL\" for Apple Inc.)\n",
    "ticker = \"AAPL\"\n",
    "\n",
    "# Download historical data (last 5 years)\n",
    "data = yf.download(ticker, period=\"5y\", interval=\"1d\")\n",
    "\n",
    "# Save the data to a CSV file for later use\n",
    "data.to_csv(\"data/stock_data.csv\")\n",
    "\n",
    "# Display the first few rows\n",
    "data.head()\n"
   ]
  },
  {
   "cell_type": "code",
   "execution_count": 5,
   "id": "f7bbe643-0b09-4f3c-8463-f64c225b5f0a",
   "metadata": {},
   "outputs": [
    {
     "name": "stdout",
     "output_type": "stream",
     "text": [
      "                Close       High        Low       Open     Volume\n",
      "Date                                                             \n",
      "2020-03-04  73.468651  73.628820  71.136509  71.939776  219178400\n",
      "2020-03-05  71.085526  72.694481  70.719078  71.716485  187572800\n",
      "2020-03-06  70.141510  70.575907  68.248617  68.435477  226176800\n",
      "2020-03-09  64.593872  67.486602  63.824576  64.006586  286744800\n",
      "2020-03-10  69.246040  69.512989  65.370456  67.256077  285290000\n",
      "\n",
      "Data Description:\n",
      "             Close         High          Low         Open        Volume\n",
      "count  1256.000000  1256.000000  1256.000000  1256.000000  1.256000e+03\n",
      "mean    157.429534   159.017701   155.661332   157.275070  8.713139e+07\n",
      "std      42.130022    42.291982    41.878111    42.070240  5.051586e+07\n",
      "min      54.449894    55.452160    51.595990    55.350235  2.323470e+07\n",
      "25%     130.590248   131.919737   128.955920   130.634560  5.392302e+07\n",
      "50%     154.884689   156.823942   152.105375   154.564515  7.408865e+07\n",
      "75%     181.581810   183.081813   179.925052   181.264813  1.024327e+08\n",
      "max     258.735504   259.814335   257.347047   257.906429  4.184740e+08\n"
     ]
    }
   ],
   "source": [
    "df = pd.read_csv(\n",
    "    \"data/stock_data.csv\",\n",
    "    skiprows=3,                # Skip the first two lines\n",
    "    names=[\"Date\", \"Close\", \"High\", \"Low\", \"Open\", \"Volume\"]\n",
    ")\n",
    "df[\"Date\"] = pd.to_datetime(df[\"Date\"])\n",
    "df.set_index(\"Date\", inplace=True)\n",
    "print(df.head())\n",
    "print(\"\\nData Description:\")\n",
    "print(df.describe())\n"
   ]
  },
  {
   "cell_type": "code",
   "execution_count": 6,
   "id": "59ae995d-e069-4876-bbc1-14c84247f55e",
   "metadata": {},
   "outputs": [
    {
     "data": {
      "image/png": "[encoded data removed]",
      "text/plain": [
       "<Figure size 1200x600 with 1 Axes>"
      ]
     },
     "metadata": {},
     "output_type": "display_data"
    }
   ],
   "source": [
    "# Plot the Close price over time\n",
    "plt.figure(figsize=(12, 6))\n",
    "plt.plot(df.index, df['Close'])\n",
    "plt.title(\"Close Price Over Time\")\n",
    "plt.xlabel(\"Date\")\n",
    "plt.ylabel(\"Close Price\")\n",
    "plt.show()"
   ]
  },
  {
   "cell_type": "code",
   "execution_count": 7,
   "id": "bd9624c4-6e04-4625-952f-16372fc75049",
   "metadata": {},
   "outputs": [],
   "source": [
    "# ---------------------------\n",
    "# Outlier Detection & Handling\n",
    "# ---------------------------\n",
    "# Remove outliers from the 'Close' column using a z-score threshold (|z| < 3)\n",
    "df['Close_z'] = zscore(df['Close'])\n",
    "df = df[df['Close_z'].abs() < 3]\n",
    "df.drop(columns=['Close_z'], inplace=True)"
   ]
  },
  {
   "cell_type": "code",
   "execution_count": 8,
   "id": "437f03d3-a2c0-405d-a7bf-feea0184835a",
   "metadata": {},
   "outputs": [
    {
     "name": "stdout",
     "output_type": "stream",
     "text": [
      "                Close       High        Low       Open     Volume      SMA20  \\\n",
      "Date                                                                           \n",
      "2020-04-22  67.003677  67.440497  66.057231  66.399402  116862400  64.062772   \n",
      "2020-04-23  66.744019  68.374822  66.705189  66.947868  124814400  64.420846   \n",
      "2020-04-24  68.670876  68.680585  67.222082  67.270620  126161200  64.718491   \n",
      "2020-04-27  68.719421  69.051890  67.937995  68.386945  117087600  65.148397   \n",
      "2020-04-28  67.605522  69.364945  67.513310  69.182936  112004800  65.436821   \n",
      "\n",
      "                EMA20        RSI      MACD  MACD_Signal  MACD_Hist    Return  \\\n",
      "Date                                                                           \n",
      "2020-04-22  65.404448  53.541258  0.788500     0.285353   0.503147  0.028804   \n",
      "2020-04-23  65.532026  52.948988  0.778925     0.384067   0.394857 -0.003875   \n",
      "2020-04-24  65.830964  56.770560  0.916256     0.490505   0.425751  0.028869   \n",
      "2020-04-27  66.106056  56.865617  1.017282     0.595860   0.421422  0.000707   \n",
      "2020-04-28  66.248862  53.935035  0.995983     0.675885   0.320098 -0.016209   \n",
      "\n",
      "            Target  \n",
      "Date                \n",
      "2020-04-22       0  \n",
      "2020-04-23       1  \n",
      "2020-04-24       1  \n",
      "2020-04-27       0  \n",
      "2020-04-28       1  \n"
     ]
    }
   ],
   "source": [
    "# ---------------------------\n",
    "# Feature Engineering\n",
    "# ---------------------------\n",
    "# Create Technical Indicators using ta (instead of pandas_ta)\n",
    "\n",
    "# 1. Simple Moving Average (SMA) for a 20-day period\n",
    "df['SMA20'] = ta.trend.SMAIndicator(df['Close'], window=20).sma_indicator()\n",
    "\n",
    "# 2. Exponential Moving Average (EMA) for a 20-day period\n",
    "df['EMA20'] = ta.trend.EMAIndicator(df['Close'], window=20).ema_indicator()\n",
    "\n",
    "# 3. Relative Strength Index (RSI) with a 14-day period\n",
    "df['RSI'] = ta.momentum.RSIIndicator(df['Close'], window=14).rsi()\n",
    "\n",
    "# 4. Moving Average Convergence Divergence (MACD)\n",
    "macd = ta.trend.MACD(df['Close'], window_slow=26, window_fast=12, window_sign=9)\n",
    "df['MACD'] = macd.macd()\n",
    "df['MACD_Signal'] = macd.macd_signal()\n",
    "df['MACD_Hist'] = macd.macd_diff()\n",
    "\n",
    "# Drop initial rows with NaNs after indicator calculations\n",
    "df.dropna(inplace=True)\n",
    "\n",
    "# Generate \"Returns\" Feature: daily percentage change in 'Close'\n",
    "df['Return'] = df['Close'].pct_change()\n",
    "df.dropna(inplace=True)\n",
    "\n",
    "# Define the binary Target: 1 if next day's Close > today's, else 0\n",
    "df['Target'] = (df['Close'].shift(-1) > df['Close']).astype(int)\n",
    "df.dropna(inplace=True)\n",
    "\n",
    "print(df.head())"
   ]
  },
  {
   "cell_type": "code",
   "execution_count": 9,
   "id": "d2259eb0-3e9f-4c87-8ebc-a242235e9b8a",
   "metadata": {},
   "outputs": [],
   "source": [
    "# ---------------------------\n",
    "# Data Scaling\n",
    "# ---------------------------\n",
    "# Define feature columns; adjust as needed\n",
    "features = ['Close', 'High', 'Low', 'Open', 'Volume', 'SMA20', 'EMA20', 'RSI', \n",
    "            'MACD', 'MACD_Signal', 'MACD_Hist', 'Return']\n",
    "X = df[features]\n",
    "y = df['Target']\n",
    "\n",
    "# Standardize features\n",
    "scaler = StandardScaler()\n",
    "X_scaled = pd.DataFrame(scaler.fit_transform(X), index=X.index, columns=X.columns)"
   ]
  },
  {
   "cell_type": "code",
   "execution_count": 10,
   "id": "79818c13-7da5-478a-9e8a-30130ada538f",
   "metadata": {},
   "outputs": [
    {
     "name": "stdout",
     "output_type": "stream",
     "text": [
      "Training set size: (977, 12)  Testing set size: (245, 12)\n"
     ]
    }
   ],
   "source": [
    "# ---------------------------\n",
    "# Train/Test Split: Chronological\n",
    "# ---------------------------\n",
    "train_size = int(len(X_scaled) * 0.8)\n",
    "X_train = X_scaled.iloc[:train_size]\n",
    "X_test  = X_scaled.iloc[train_size:]\n",
    "y_train = y.iloc[:train_size]\n",
    "y_test  = y.iloc[train_size:]\n",
    "\n",
    "print(\"Training set size:\", X_train.shape, \" Testing set size:\", X_test.shape)"
   ]
  },
  {
   "cell_type": "code",
   "execution_count": 14,
   "id": "495f8a6b-6af1-4442-9bd7-0997888b0dde",
   "metadata": {},
   "outputs": [
    {
     "name": "stderr",
     "output_type": "stream",
     "text": [
      "[nltk_data] Downloading package vader_lexicon to\n",
      "[nltk_data]     C:\\Users\\johni\\AppData\\Roaming\\nltk_data...\n",
      "[nltk_data]   Package vader_lexicon is already up-to-date!\n"
     ]
    },
    {
     "name": "stdout",
     "output_type": "stream",
     "text": [
      "Date: 2025-02-26 | Headlines: 97 | Avg Sentiment: 0.0408\n",
      "Date: 2025-02-27 | Headlines: 100 | Avg Sentiment: 0.0427\n",
      "Date: 2025-02-28 | Headlines: 99 | Avg Sentiment: 0.1026\n",
      "Date: 2025-03-01 | Headlines: 98 | Avg Sentiment: 0.0793\n",
      "Date: 2025-03-02 | Headlines: 99 | Avg Sentiment: 0.0863\n",
      "Date: 2025-03-03 | Headlines: 98 | Avg Sentiment: 0.0679\n",
      "Date: 2025-03-04 | No headlines found.\n",
      "Date: 2025-03-05 | No headlines found.\n",
      "Keys in the sentiment data: Index(['date', 'num_headlines', 'avg_sentiment'], dtype='object')\n",
      "\n",
      "Daily aggregated sentiment:\n",
      "            num_headlines  avg_sentiment\n",
      "date                                    \n",
      "2025-02-26             97       0.040825\n",
      "2025-02-27            100       0.042677\n",
      "2025-02-28             99       0.102598\n",
      "2025-03-01             98       0.079300\n",
      "2025-03-02             99       0.086329\n",
      "2025-03-03             98       0.067860\n"
     ]
    }
   ],
   "source": [
    "# Cell: Fetch and Process News Sentiment from a News API\n",
    "import requests\n",
    "import datetime\n",
    "import numpy as np\n",
    "import pandas as pd\n",
    "from nltk.sentiment import SentimentIntensityAnalyzer\n",
    "import nltk\n",
    "nltk.download('vader_lexicon')\n",
    "\n",
    "# Replace with your NewsAPI key\n",
    "api_key = \"44e0b7ac8f2247c18afa1ffc06168edd\"\n",
    "\n",
    "# Define a date range (for example, one day or a range)\n",
    "# Use recent dates (e.g., last week) instead of 2022\n",
    "start_date = datetime.date.today() - datetime.timedelta(days=7)\n",
    "end_date = datetime.date.today()\n",
    "\n",
    "\n",
    "daily_sentiments = []\n",
    "sia = SentimentIntensityAnalyzer()\n",
    "\n",
    "current_date = start_date\n",
    "while current_date <= end_date:\n",
    "    date_str = current_date.strftime(\"%Y-%m-%d\")\n",
    "    url = f\"https://newsapi.org/v2/everything?q=Apple&from={date_str}&to={date_str}&sortBy=popularity&apiKey={api_key}\"\n",
    "    \n",
    "    response = requests.get(url)\n",
    "    if response.status_code == 200:\n",
    "        news_data = response.json()\n",
    "        headlines = [article['title'] for article in news_data.get('articles', [])]\n",
    "        if headlines:\n",
    "            sentiments = [sia.polarity_scores(headline)['compound'] for headline in headlines]\n",
    "            avg_sentiment = np.mean(sentiments)\n",
    "            daily_sentiments.append({'date': date_str, 'num_headlines': len(headlines), 'avg_sentiment': avg_sentiment})\n",
    "            print(f\"Date: {date_str} | Headlines: {len(headlines)} | Avg Sentiment: {avg_sentiment:.4f}\")\n",
    "        else:\n",
    "            print(f\"Date: {date_str} | No headlines found.\")\n",
    "    else:\n",
    "        print(f\"Error fetching news for {date_str}: {response.status_code}\")\n",
    "    current_date += datetime.timedelta(days=1)\n",
    "\n",
    "# Check if data was collected\n",
    "if not daily_sentiments:\n",
    "    print(\"No sentiment data was collected.\")\n",
    "else:\n",
    "    df_sentiment = pd.DataFrame(daily_sentiments)\n",
    "    print(\"Keys in the sentiment data:\", df_sentiment.columns)\n",
    "    # Convert and set the index if the 'date' key is present\n",
    "    if 'date' in df_sentiment.columns:\n",
    "        df_sentiment['date'] = pd.to_datetime(df_sentiment['date'])\n",
    "        df_sentiment.set_index('date', inplace=True)\n",
    "    print(\"\\nDaily aggregated sentiment:\")\n",
    "    print(df_sentiment)\n"
   ]
  },
  {
   "cell_type": "code",
   "execution_count": null,
   "id": "5ce01b24-2954-4ff0-b1bf-6c83f27c7fde",
   "metadata": {},
   "outputs": [],
   "source": []
  }
 ],
 "metadata": {
  "kernelspec": {
   "display_name": "Python 3 (ipykernel)",
   "language": "python",
   "name": "python3"
  },
  "language_info": {
   "codemirror_mode": {
    "name": "ipython",
    "version": 3
   },
   "file_extension": ".py",
   "mimetype": "text/x-python",
   "name": "python",
   "nbconvert_exporter": "python",
   "pygments_lexer": "ipython3",
   "version": "3.10.16"
  }
 },
 "nbformat": 4,
 "nbformat_minor": 5
}
